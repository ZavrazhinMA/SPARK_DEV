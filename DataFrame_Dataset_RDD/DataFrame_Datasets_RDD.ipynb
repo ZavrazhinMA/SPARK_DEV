{
 "cells": [
  {
   "cell_type": "code",
   "execution_count": 1,
   "id": "636d57dc",
   "metadata": {},
   "outputs": [
    {
     "data": {
      "text/plain": [
       "Intitializing Scala interpreter ..."
      ]
     },
     "metadata": {},
     "output_type": "display_data"
    },
    {
     "data": {
      "text/plain": [
       "Spark Web UI available at http://host.docker.internal:4040\n",
       "SparkContext available as 'sc' (version = 3.5.0, master = local[*], app id = local-1696246811124)\n",
       "SparkSession available as 'spark'\n"
      ]
     },
     "metadata": {},
     "output_type": "display_data"
    },
    {
     "data": {
      "text/plain": [
       "import spark.implicits._\r\n",
       "import org.apache.spark.sql.{DataFrame, Row}\r\n",
       "import org.apache.spark.sql.types.{IntegerType, StringType, StructField, StructType}\r\n"
      ]
     },
     "execution_count": 1,
     "metadata": {},
     "output_type": "execute_result"
    }
   ],
   "source": [
    "import spark.implicits._\n",
    "import org.apache.spark.sql.{DataFrame, Row}\n",
    "import org.apache.spark.sql.types.{IntegerType, StringType, StructField, StructType}"
   ]
  },
  {
   "cell_type": "markdown",
   "id": "b460930a",
   "metadata": {},
   "source": [
    "## Datasets"
   ]
  },
  {
   "cell_type": "code",
   "execution_count": 2,
   "id": "3d66ad1d",
   "metadata": {},
   "outputs": [
    {
     "data": {
      "text/plain": [
       "defined class Customer\r\n",
       "defined object Customer\r\n"
      ]
     },
     "execution_count": 2,
     "metadata": {},
     "output_type": "execute_result"
    }
   ],
   "source": [
    "case class Customer(name: String, surname: String, age: Int)\n",
    "object Customer {\n",
    "    val customers = Seq(Customer(\"Ivan\", \"Ivanov\", 22))\n",
    "    val customerDF = spark.sparkContext.parallelize(customers).toDF().as[Customer]\n",
    "}"
   ]
  },
  {
   "cell_type": "code",
   "execution_count": 3,
   "id": "73788da8",
   "metadata": {},
   "outputs": [
    {
     "name": "stdout",
     "output_type": "stream",
     "text": [
      "+----+-------+---+\n",
      "|name|surname|age|\n",
      "+----+-------+---+\n",
      "|Ivan| Ivanov| 22|\n",
      "+----+-------+---+\n",
      "\n"
     ]
    }
   ],
   "source": [
    "Customer.customerDF.filter(_.age > 20).show()"
   ]
  },
  {
   "cell_type": "code",
   "execution_count": 4,
   "id": "fc1a8235",
   "metadata": {},
   "outputs": [
    {
     "name": "stdout",
     "output_type": "stream",
     "text": [
      "== Physical Plan ==\n",
      "*(1) SerializeFromObject [staticinvoke(class org.apache.spark.unsafe.types.UTF8String, StringType, fromString, knownnotnull(assertnotnull(input[0, $line10.$read$$iw$$iw$$iw$$iw$$iw$$iw$$iw$$iw$$iw$$iw$Customer, true])).name, true, false, true) AS name#4, staticinvoke(class org.apache.spark.unsafe.types.UTF8String, StringType, fromString, knownnotnull(assertnotnull(input[0, $line10.$read$$iw$$iw$$iw$$iw$$iw$$iw$$iw$$iw$$iw$$iw$Customer, true])).surname, true, false, true) AS surname#5, knownnotnull(assertnotnull(input[0, $line10.$read$$iw$$iw$$iw$$iw$$iw$$iw$$iw$$iw$$iw$$iw$Customer, true])).age AS age#6]\n",
      "+- *(1) Filter $line12.$read$$iw$$iw$$iw$$iw$$iw$$iw$$iw$$iw$$iw$$iw$$Lambda$3991/0x000000010179b840@12282797.apply\n",
      "   +- Scan[obj#3]\n",
      "\n",
      "\n"
     ]
    }
   ],
   "source": [
    "Customer.customerDF.filter(_.age > 20).explain()"
   ]
  },
  {
   "cell_type": "markdown",
   "id": "63d7e384",
   "metadata": {},
   "source": [
    "---------------------------"
   ]
  },
  {
   "cell_type": "markdown",
   "id": "e6ab23e3",
   "metadata": {},
   "source": [
    "## DataFrame"
   ]
  },
  {
   "cell_type": "code",
   "execution_count": 5,
   "id": "4a351461",
   "metadata": {},
   "outputs": [
    {
     "data": {
      "text/plain": [
       "columns: Seq[String] = List(StudentID, Course)\r\n",
       "data: Seq[(String, String)] = List((1,Spark), (2,Scala), (3,Java))\r\n"
      ]
     },
     "execution_count": 5,
     "metadata": {},
     "output_type": "execute_result"
    }
   ],
   "source": [
    "  val columns = Seq(\"StudentID\", \"Course\")\n",
    "  val data = Seq((\"1\", \"Spark\"), (\"2\", \"Scala\"), (\"3\", \"Java\"))"
   ]
  },
  {
   "cell_type": "code",
   "execution_count": 6,
   "id": "bbd83d6a",
   "metadata": {},
   "outputs": [
    {
     "name": "stdout",
     "output_type": "stream",
     "text": [
      "+---------+------+\n",
      "|StudentID|Course|\n",
      "+---------+------+\n",
      "|        1| Spark|\n",
      "|        2| Scala|\n",
      "|        3|  Java|\n",
      "+---------+------+\n",
      "\n",
      "root\n",
      " |-- StudentID: string (nullable = true)\n",
      " |-- Course: string (nullable = true)\n",
      "\n"
     ]
    },
    {
     "data": {
      "text/plain": [
       "fromRDD: ()org.apache.spark.sql.DataFrame\r\n"
      ]
     },
     "execution_count": 6,
     "metadata": {},
     "output_type": "execute_result"
    }
   ],
   "source": [
    "def fromRDD(): DataFrame = spark.sparkContext.parallelize(data).toDF(columns: _*)\n",
    "fromRDD().show\n",
    "fromRDD().printSchema"
   ]
  },
  {
   "cell_type": "code",
   "execution_count": 7,
   "id": "26aba4a0",
   "metadata": {},
   "outputs": [
    {
     "name": "stdout",
     "output_type": "stream",
     "text": [
      "+---+-----+\n",
      "| _1|   _2|\n",
      "+---+-----+\n",
      "|  1|Spark|\n",
      "|  2|Scala|\n",
      "|  3| Java|\n",
      "+---+-----+\n",
      "\n"
     ]
    },
    {
     "data": {
      "text/plain": [
       "fromList: ()org.apache.spark.sql.DataFrame\r\n"
      ]
     },
     "execution_count": 7,
     "metadata": {},
     "output_type": "execute_result"
    }
   ],
   "source": [
    "def fromList() = data.toDF()\n",
    "fromList().show"
   ]
  },
  {
   "cell_type": "code",
   "execution_count": 8,
   "id": "f31c7b44",
   "metadata": {},
   "outputs": [
    {
     "name": "stdout",
     "output_type": "stream",
     "text": [
      "+---+-----+\n",
      "| _1|   _2|\n",
      "+---+-----+\n",
      "|  1|Spark|\n",
      "|  2|Scala|\n",
      "|  3| Java|\n",
      "+---+-----+\n",
      "\n"
     ]
    },
    {
     "data": {
      "text/plain": [
       "createDataFrame: ()org.apache.spark.sql.DataFrame\r\n"
      ]
     },
     "execution_count": 8,
     "metadata": {},
     "output_type": "execute_result"
    }
   ],
   "source": [
    "def createDataFrame() = spark.createDataFrame(data)\n",
    "createDataFrame().show"
   ]
  },
  {
   "cell_type": "code",
   "execution_count": 9,
   "id": "ed628a94",
   "metadata": {},
   "outputs": [
    {
     "data": {
      "text/plain": [
       "withSchema: ()org.apache.spark.sql.DataFrame\r\n"
      ]
     },
     "execution_count": 9,
     "metadata": {},
     "output_type": "execute_result"
    }
   ],
   "source": [
    "def withSchema(): DataFrame = {\n",
    "    val schema = StructType(Array(\n",
    "        StructField(\"StudentID\", IntegerType, false),\n",
    "        StructField(\"Course\", StringType, true))\n",
    "                           )\n",
    "    val rdd = spark.sparkContext.parallelize(Seq(\n",
    "    Row(1, \"Scala\"),\n",
    "    Row(2, \"spark\")))\n",
    "    spark.createDataFrame(rdd, schema)\n",
    "}"
   ]
  },
  {
   "cell_type": "code",
   "execution_count": 10,
   "id": "2dbd00d4",
   "metadata": {
    "scrolled": true
   },
   "outputs": [
    {
     "name": "stdout",
     "output_type": "stream",
     "text": [
      "+---------+------+\n",
      "|StudentID|Course|\n",
      "+---------+------+\n",
      "|        1| Scala|\n",
      "|        2| spark|\n",
      "+---------+------+\n",
      "\n",
      "root\n",
      " |-- StudentID: integer (nullable = false)\n",
      " |-- Course: string (nullable = true)\n",
      "\n"
     ]
    }
   ],
   "source": [
    "withSchema().show\n",
    "withSchema().printSchema"
   ]
  },
  {
   "cell_type": "code",
   "execution_count": null,
   "id": "1498bc55",
   "metadata": {},
   "outputs": [],
   "source": []
  },
  {
   "cell_type": "code",
   "execution_count": 11,
   "id": "73019d7e",
   "metadata": {},
   "outputs": [
    {
     "data": {
      "text/plain": [
       "data: org.apache.spark.sql.DataFrame = [Address: string, Birthdate: string ... 5 more fields]\r\n"
      ]
     },
     "execution_count": 11,
     "metadata": {},
     "output_type": "execute_result"
    }
   ],
   "source": [
    "val data = spark.read\n",
    "    .format(\"json\")\n",
    "//     .schema - для задания схемы\n",
    "    .option(\"mode\", \"FAILFAST\")\n",
    "    .load(\"customer_data.json\")\n"
   ]
  },
  {
   "cell_type": "code",
   "execution_count": 12,
   "id": "cfb8aca7",
   "metadata": {
    "scrolled": true
   },
   "outputs": [
    {
     "name": "stdout",
     "output_type": "stream",
     "text": [
      "+--------------------+-------------------+--------------+----------+--------------------+---------------+----------------+\n",
      "|             Address|          Birthdate|       Country|CustomerID|               Email|           Name|        Username|\n",
      "+--------------------+-------------------+--------------+----------+--------------------+---------------+----------------+\n",
      "|Unit 1047 Box 408...|1994-02-20 00:46:27|United Kingdom|     12346|cooperalexis@hotm...|  Lindsay Cowan|valenciajennifer|\n",
      "|55711 Janet Plaza...|1988-06-21 00:15:34|       Iceland|     12347|timothy78@hotmail...|Katherine David|      hillrachel|\n",
      "+--------------------+-------------------+--------------+----------+--------------------+---------------+----------------+\n",
      "only showing top 2 rows\n",
      "\n",
      "root\n",
      " |-- Address: string (nullable = true)\n",
      " |-- Birthdate: string (nullable = true)\n",
      " |-- Country: string (nullable = true)\n",
      " |-- CustomerID: string (nullable = true)\n",
      " |-- Email: string (nullable = true)\n",
      " |-- Name: string (nullable = true)\n",
      " |-- Username: string (nullable = true)\n",
      "\n"
     ]
    }
   ],
   "source": [
    "data.show(2)\n",
    "data.printSchema()"
   ]
  },
  {
   "cell_type": "markdown",
   "id": "deb7c5a1",
   "metadata": {},
   "source": [
    "-----------------------------------"
   ]
  },
  {
   "cell_type": "markdown",
   "id": "8a86b69c",
   "metadata": {},
   "source": [
    "## Base Operations"
   ]
  },
  {
   "cell_type": "markdown",
   "id": "50d1281b",
   "metadata": {},
   "source": [
    "### SELECT"
   ]
  },
  {
   "cell_type": "code",
   "execution_count": 13,
   "id": "71034bb9",
   "metadata": {},
   "outputs": [
    {
     "data": {
      "text/plain": [
       "import org.apache.spark.sql.DataFrame\r\n",
       "import org.apache.spark.sql.functions._\r\n",
       "import org.apache.spark.sql.expressions.Window\r\n"
      ]
     },
     "execution_count": 13,
     "metadata": {},
     "output_type": "execute_result"
    }
   ],
   "source": [
    "import org.apache.spark.sql.DataFrame\n",
    "// import org.apache.spark.sql.functions.{array, col, count, date_format, desc, lit}\n",
    "import org.apache.spark.sql.functions._\n",
    "import org.apache.spark.sql.expressions.Window"
   ]
  },
  {
   "cell_type": "code",
   "execution_count": 14,
   "id": "54eb29f5",
   "metadata": {},
   "outputs": [
    {
     "name": "stdout",
     "output_type": "stream",
     "text": [
      "+--------------+\n",
      "|       Country|\n",
      "+--------------+\n",
      "|United Kingdom|\n",
      "|       Iceland|\n",
      "|       Finland|\n",
      "|         Italy|\n",
      "+--------------+\n",
      "only showing top 4 rows\n",
      "\n"
     ]
    }
   ],
   "source": [
    "data.select(\"Country\").show(4)"
   ]
  },
  {
   "cell_type": "code",
   "execution_count": 15,
   "id": "3d09a8b9",
   "metadata": {},
   "outputs": [
    {
     "name": "stdout",
     "output_type": "stream",
     "text": [
      "+-------+\n",
      "|NotNull|\n",
      "+-------+\n",
      "|   true|\n",
      "|   true|\n",
      "+-------+\n",
      "only showing top 2 rows\n",
      "\n"
     ]
    }
   ],
   "source": [
    "data.select(col(\"Country\").isNotNull.as(\"NotNull\")).show(2)"
   ]
  },
  {
   "cell_type": "code",
   "execution_count": 16,
   "id": "6f4debcd",
   "metadata": {},
   "outputs": [
    {
     "name": "stdout",
     "output_type": "stream",
     "text": [
      "+--------------+\n",
      "|       Country|\n",
      "+--------------+\n",
      "|United Kingdom|\n",
      "|       Iceland|\n",
      "+--------------+\n",
      "only showing top 2 rows\n",
      "\n"
     ]
    }
   ],
   "source": [
    "data.select($\"Country\").show(2)"
   ]
  },
  {
   "cell_type": "code",
   "execution_count": 17,
   "id": "883a1522",
   "metadata": {},
   "outputs": [
    {
     "name": "stdout",
     "output_type": "stream",
     "text": [
      "+--------------+\n",
      "|        Strana|\n",
      "+--------------+\n",
      "|United Kingdom|\n",
      "|       Iceland|\n",
      "+--------------+\n",
      "only showing top 2 rows\n",
      "\n"
     ]
    }
   ],
   "source": [
    "data.selectExpr(\"Country as Strana\").show(2)"
   ]
  },
  {
   "cell_type": "code",
   "execution_count": 18,
   "id": "3cd37bbb",
   "metadata": {},
   "outputs": [
    {
     "data": {
      "text/plain": [
       "w: org.apache.spark.sql.expressions.WindowSpec = org.apache.spark.sql.expressions.WindowSpec@3e32e4dd\r\n"
      ]
     },
     "execution_count": 18,
     "metadata": {},
     "output_type": "execute_result"
    }
   ],
   "source": [
    "val w = Window.partitionBy(\"country\").orderBy(\"Name\")"
   ]
  },
  {
   "cell_type": "code",
   "execution_count": 19,
   "id": "1b55f2c3",
   "metadata": {},
   "outputs": [
    {
     "name": "stdout",
     "output_type": "stream",
     "text": [
      "+--------------------+-------------------+---------+----------+-------------------+---------------+-------------+--------+\n",
      "|             Address|          Birthdate|  Country|CustomerID|              Email|           Name|     Username|new_col2|\n",
      "+--------------------+-------------------+---------+----------+-------------------+---------------+-------------+--------+\n",
      "|15528 Tyler Mount...|1967-11-29 02:49:52|Australia|     12424|leslieday@gmail.com|Adrienne Obrien|       rwelch|       1|\n",
      "|7193 Gibbs Key\\nP...|1993-04-02 13:58:45|Australia|     12388|  cfoster@gmail.com| David Lawrence|thomasmendoza|       2|\n",
      "+--------------------+-------------------+---------+----------+-------------------+---------------+-------------+--------+\n",
      "only showing top 2 rows\n",
      "\n"
     ]
    }
   ],
   "source": [
    "// data.withColumn(\"new_col\", row_number() over w).show(2)  -можно так\n",
    "data.withColumn(\"new_col2\", row_number.over(w)).show(2)"
   ]
  },
  {
   "cell_type": "code",
   "execution_count": 20,
   "id": "5b4ce421",
   "metadata": {},
   "outputs": [
    {
     "name": "stdout",
     "output_type": "stream",
     "text": [
      "+--------------------+-------------------+----------+--------------------+---------------+----------------+--------------+\n",
      "|             Address|          Birthdate|CustomerID|               Email|           Name|        Username|      new_col2|\n",
      "+--------------------+-------------------+----------+--------------------+---------------+----------------+--------------+\n",
      "|Unit 1047 Box 408...|1994-02-20 00:46:27|     12346|cooperalexis@hotm...|  Lindsay Cowan|valenciajennifer|United Kingdom|\n",
      "|55711 Janet Plaza...|1988-06-21 00:15:34|     12347|timothy78@hotmail...|Katherine David|      hillrachel|       Iceland|\n",
      "+--------------------+-------------------+----------+--------------------+---------------+----------------+--------------+\n",
      "only showing top 2 rows\n",
      "\n"
     ]
    }
   ],
   "source": [
    "data.withColumn(\"new_col2\", col(\"Country\")).drop(\"Country\").show(2)  //дублирование"
   ]
  },
  {
   "cell_type": "code",
   "execution_count": 21,
   "id": "4c533112",
   "metadata": {},
   "outputs": [
    {
     "name": "stdout",
     "output_type": "stream",
     "text": [
      "+--------------------+-------------------+----------+--------------------+---------------+----------------+-----+\n",
      "|             Address|          Birthdate|CustomerID|               Email|           Name|        Username| flag|\n",
      "+--------------------+-------------------+----------+--------------------+---------------+----------------+-----+\n",
      "|Unit 1047 Box 408...|1994-02-20 00:46:27|     12346|cooperalexis@hotm...|  Lindsay Cowan|valenciajennifer|false|\n",
      "|55711 Janet Plaza...|1988-06-21 00:15:34|     12347|timothy78@hotmail...|Katherine David|      hillrachel|false|\n",
      "+--------------------+-------------------+----------+--------------------+---------------+----------------+-----+\n",
      "only showing top 2 rows\n",
      "\n"
     ]
    }
   ],
   "source": [
    "data.withColumn(\"flag\", lit(false)).drop(\"Country\").show(2) // lit -> превращает значение в столбец значений"
   ]
  },
  {
   "cell_type": "code",
   "execution_count": 22,
   "id": "ae439d81",
   "metadata": {},
   "outputs": [
    {
     "name": "stdout",
     "output_type": "stream",
     "text": [
      "+--------------------+-------------------+--------------+----------+--------------------+---------------+----------------+\n",
      "|             Address|          Birthdate|       Country|CustomerID|               Email|           Name|        Username|\n",
      "+--------------------+-------------------+--------------+----------+--------------------+---------------+----------------+\n",
      "|Unit 1047 Box 408...|1994-02-20 00:46:27|United Kingdom|     12346|cooperalexis@hotm...|  Lindsay Cowan|valenciajennifer|\n",
      "|55711 Janet Plaza...|1988-06-21 00:15:34|       Iceland|     12347|timothy78@hotmail...|Katherine David|      hillrachel|\n",
      "+--------------------+-------------------+--------------+----------+--------------------+---------------+----------------+\n",
      "only showing top 2 rows\n",
      "\n"
     ]
    }
   ],
   "source": [
    "// переимнование столбца\n",
    "data.withColumnRenamed(\"Iceland\", \"strana\").show(2)  // медлено - лучше использовать Селект эс"
   ]
  },
  {
   "cell_type": "code",
   "execution_count": 23,
   "id": "da8ee6ce",
   "metadata": {},
   "outputs": [],
   "source": [
    "// data.createGlobalTempView(\"customer_table\")\n",
    "// spark.sql(\"SELECT 'Country' FROM customer_table\").show(2)"
   ]
  },
  {
   "cell_type": "markdown",
   "id": "c0e8c011",
   "metadata": {},
   "source": [
    "### FILTER"
   ]
  },
  {
   "cell_type": "markdown",
   "id": "694ab1ef",
   "metadata": {},
   "source": [
    "filter = where (можно заменить)"
   ]
  },
  {
   "cell_type": "code",
   "execution_count": 24,
   "id": "cd8dfec0",
   "metadata": {},
   "outputs": [
    {
     "name": "stdout",
     "output_type": "stream",
     "text": [
      "+--------------------+-------------------+-------+----------+--------------------+---------------+----------+\n",
      "|             Address|          Birthdate|Country|CustomerID|               Email|           Name|  Username|\n",
      "+--------------------+-------------------+-------+----------+--------------------+---------------+----------+\n",
      "|55711 Janet Plaza...|1988-06-21 00:15:34|Iceland|     12347|timothy78@hotmail...|Katherine David|hillrachel|\n",
      "+--------------------+-------------------+-------+----------+--------------------+---------------+----------+\n",
      "\n"
     ]
    }
   ],
   "source": [
    "data.filter(\"Country = 'Iceland' AND Name = 'Katherine David'\").show // SQL"
   ]
  },
  {
   "cell_type": "code",
   "execution_count": 25,
   "id": "51f5b683",
   "metadata": {},
   "outputs": [
    {
     "data": {
      "text/plain": [
       "filterBy: org.apache.spark.sql.Column = (Country = Iceland)\r\n"
      ]
     },
     "execution_count": 25,
     "metadata": {},
     "output_type": "execute_result"
    }
   ],
   "source": [
    "val filterBy = col(\"Country\") === \"Iceland\""
   ]
  },
  {
   "cell_type": "code",
   "execution_count": 26,
   "id": "03ed9ea7",
   "metadata": {},
   "outputs": [
    {
     "name": "stdout",
     "output_type": "stream",
     "text": [
      "+--------------------+-------------------+-------+----------+--------------------+---------------+----------+\n",
      "|             Address|          Birthdate|Country|CustomerID|               Email|           Name|  Username|\n",
      "+--------------------+-------------------+-------+----------+--------------------+---------------+----------+\n",
      "|55711 Janet Plaza...|1988-06-21 00:15:34|Iceland|     12347|timothy78@hotmail...|Katherine David|hillrachel|\n",
      "+--------------------+-------------------+-------+----------+--------------------+---------------+----------+\n",
      "\n"
     ]
    }
   ],
   "source": [
    "data.where(filterBy &&  col(\"Name\") === \"Katherine David\").show // Scala"
   ]
  },
  {
   "cell_type": "markdown",
   "id": "9015abff",
   "metadata": {},
   "source": [
    "### SORT"
   ]
  },
  {
   "cell_type": "code",
   "execution_count": 27,
   "id": "9f35d399",
   "metadata": {},
   "outputs": [
    {
     "name": "stdout",
     "output_type": "stream",
     "text": [
      "+--------------------+-------------------+--------------+----------+--------------------+---------------+----------------+\n",
      "|             Address|          Birthdate|       Country|CustomerID|               Email|           Name|        Username|\n",
      "+--------------------+-------------------+--------------+----------+--------------------+---------------+----------------+\n",
      "|Unit 1047 Box 408...|1994-02-20 00:46:27|United Kingdom|     12346|cooperalexis@hotm...|  Lindsay Cowan|valenciajennifer|\n",
      "|55711 Janet Plaza...|1988-06-21 00:15:34|       Iceland|     12347|timothy78@hotmail...|Katherine David|      hillrachel|\n",
      "+--------------------+-------------------+--------------+----------+--------------------+---------------+----------------+\n",
      "only showing top 2 rows\n",
      "\n"
     ]
    }
   ],
   "source": [
    "data.sort(\"CustomerId\").show(2)"
   ]
  },
  {
   "cell_type": "code",
   "execution_count": 28,
   "id": "8fc3c04c",
   "metadata": {},
   "outputs": [
    {
     "name": "stdout",
     "output_type": "stream",
     "text": [
      "+--------------------+-------------------+--------------+----------+-------------------+-----------------+--------+\n",
      "|             Address|          Birthdate|       Country|CustomerID|              Email|             Name|Username|\n",
      "+--------------------+-------------------+--------------+----------+-------------------+-----------------+--------+\n",
      "|6942 Connie Skywa...|1973-10-24 00:52:10|United Kingdom|     12989|amber97@hotmail.com|Brandon Contreras|  ecasey|\n",
      "|79375 David Neck\\...|1971-05-04 22:20:10|United Kingdom|     12988|  erica98@gmail.com|   Gabriel Romero| qknight|\n",
      "+--------------------+-------------------+--------------+----------+-------------------+-----------------+--------+\n",
      "only showing top 2 rows\n",
      "\n"
     ]
    }
   ],
   "source": [
    "data.orderBy(col(\"CustomerId\").desc).show(2)"
   ]
  },
  {
   "cell_type": "code",
   "execution_count": 29,
   "id": "e0b56ee3",
   "metadata": {},
   "outputs": [
    {
     "name": "stdout",
     "output_type": "stream",
     "text": [
      "+--------------------+-------------------+--------------+----------+-------------------+-----------------+--------+\n",
      "|             Address|          Birthdate|       Country|CustomerID|              Email|             Name|Username|\n",
      "+--------------------+-------------------+--------------+----------+-------------------+-----------------+--------+\n",
      "|6942 Connie Skywa...|1973-10-24 00:52:10|United Kingdom|     12989|amber97@hotmail.com|Brandon Contreras|  ecasey|\n",
      "|79375 David Neck\\...|1971-05-04 22:20:10|United Kingdom|     12988|  erica98@gmail.com|   Gabriel Romero| qknight|\n",
      "+--------------------+-------------------+--------------+----------+-------------------+-----------------+--------+\n",
      "only showing top 2 rows\n",
      "\n"
     ]
    }
   ],
   "source": [
    "data.orderBy(desc(\"CustomerId\")).show(2)"
   ]
  },
  {
   "cell_type": "markdown",
   "id": "8ded51ed",
   "metadata": {},
   "source": [
    "### Repartition"
   ]
  },
  {
   "cell_type": "code",
   "execution_count": 30,
   "id": "b90f63fd",
   "metadata": {},
   "outputs": [
    {
     "name": "stdout",
     "output_type": "stream",
     "text": [
      "(Num partotions: ,1)\n",
      "(Num partotions after: ,5)\n"
     ]
    },
    {
     "data": {
      "text/plain": [
       "repartDf: org.apache.spark.sql.Dataset[org.apache.spark.sql.Row] = [Address: string, Birthdate: string ... 5 more fields]\r\n"
      ]
     },
     "execution_count": 30,
     "metadata": {},
     "output_type": "execute_result"
    }
   ],
   "source": [
    "println(\"Num partotions: \", data.rdd.getNumPartitions)\n",
    "val repartDf = data.repartition(5, col(\"Country\"))\n",
    "println(\"Num partotions after: \", repartDf.rdd.getNumPartitions)"
   ]
  },
  {
   "cell_type": "code",
   "execution_count": 31,
   "id": "f25a0d91",
   "metadata": {},
   "outputs": [
    {
     "name": "stdout",
     "output_type": "stream",
     "text": [
      "(Num partotions after coalesce: ,3)\n"
     ]
    }
   ],
   "source": [
    "println(\"Num partotions after coalesce: \", repartDf.coalesce(3).rdd.getNumPartitions) //схлопывание"
   ]
  },
  {
   "cell_type": "markdown",
   "id": "a2a5488a",
   "metadata": {},
   "source": [
    "### GroupBy, JOIN"
   ]
  },
  {
   "cell_type": "code",
   "execution_count": 32,
   "id": "b5fd6c9a",
   "metadata": {},
   "outputs": [
    {
     "name": "stdout",
     "output_type": "stream",
     "text": [
      "+---------+--------+---------------+\n",
      "|  country|count(1)|max(customerId)|\n",
      "+---------+--------+---------------+\n",
      "|Australia|       8|          12434|\n",
      "|  Austria|      11|          12865|\n",
      "|  Bahrain|       2|          12355|\n",
      "|  Belgium|      25|          12876|\n",
      "|   Brazil|       1|          12769|\n",
      "+---------+--------+---------------+\n",
      "only showing top 5 rows\n",
      "\n"
     ]
    }
   ],
   "source": [
    "data.groupBy(col(\"country\"))\n",
    "    .agg(count(lit(1)), max(\"customerId\"))\n",
    "    .show(5)"
   ]
  },
  {
   "cell_type": "code",
   "execution_count": 33,
   "id": "babfd053",
   "metadata": {},
   "outputs": [
    {
     "data": {
      "text/plain": [
       "retail: org.apache.spark.sql.DataFrame = [CustomerID: string, Description: string ... 5 more fields]\r\n"
      ]
     },
     "execution_count": 33,
     "metadata": {},
     "output_type": "execute_result"
    }
   ],
   "source": [
    "val retail = spark.read\n",
    "    .format(\"json\")\n",
    "//     .schema - для задания схемы\n",
    "    .option(\"mode\", \"FAILFAST\")\n",
    "    .load(\"retail_data.json\")"
   ]
  },
  {
   "cell_type": "code",
   "execution_count": 34,
   "id": "4b2f9572",
   "metadata": {},
   "outputs": [
    {
     "name": "stdout",
     "output_type": "stream",
     "text": [
      "+----------+--------------------+---------------+---------+--------+---------+---------+\n",
      "|CustomerID|         Description|    InvoiceDate|InvoiceNo|Quantity|StockCode|UnitPrice|\n",
      "+----------+--------------------+---------------+---------+--------+---------+---------+\n",
      "|     12346|MEDIUM CERAMIC TO...|1/18/2011 10:01|   541431|   74215|    23166|     1.04|\n",
      "|     12346|MEDIUM CERAMIC TO...|1/18/2011 10:17|  C541433|  -74215|    23166|     1.04|\n",
      "+----------+--------------------+---------------+---------+--------+---------+---------+\n",
      "only showing top 2 rows\n",
      "\n"
     ]
    }
   ],
   "source": [
    "retail.show(2)"
   ]
  },
  {
   "cell_type": "code",
   "execution_count": 35,
   "id": "65454a12",
   "metadata": {},
   "outputs": [
    {
     "name": "stdout",
     "output_type": "stream",
     "text": [
      "+----------+--------------------+-------------------+--------------+--------------------+-------------+----------------+--------------------+---------------+---------+--------+---------+---------+\n",
      "|CustomerID|             Address|          Birthdate|       Country|               Email|         Name|        Username|         Description|    InvoiceDate|InvoiceNo|Quantity|StockCode|UnitPrice|\n",
      "+----------+--------------------+-------------------+--------------+--------------------+-------------+----------------+--------------------+---------------+---------+--------+---------+---------+\n",
      "|     12346|Unit 1047 Box 408...|1994-02-20 00:46:27|United Kingdom|cooperalexis@hotm...|Lindsay Cowan|valenciajennifer|MEDIUM CERAMIC TO...|1/18/2011 10:17|  C541433|  -74215|    23166|     1.04|\n",
      "|     12346|Unit 1047 Box 408...|1994-02-20 00:46:27|United Kingdom|cooperalexis@hotm...|Lindsay Cowan|valenciajennifer|MEDIUM CERAMIC TO...|1/18/2011 10:01|   541431|   74215|    23166|     1.04|\n",
      "+----------+--------------------+-------------------+--------------+--------------------+-------------+----------------+--------------------+---------------+---------+--------+---------+---------+\n",
      "only showing top 2 rows\n",
      "\n"
     ]
    }
   ],
   "source": [
    "data.join(retail, \"CustomerId\", \"left\").show(2)"
   ]
  },
  {
   "cell_type": "code",
   "execution_count": 36,
   "id": "7cffb14d",
   "metadata": {},
   "outputs": [
    {
     "name": "stdout",
     "output_type": "stream",
     "text": [
      "+--------------------+-------------------+--------------+----------+--------------------+-------------+----------------+----------+--------------------+---------------+---------+--------+---------+---------+\n",
      "|             Address|          Birthdate|       Country|CustomerID|               Email|         Name|        Username|CustomerID|         Description|    InvoiceDate|InvoiceNo|Quantity|StockCode|UnitPrice|\n",
      "+--------------------+-------------------+--------------+----------+--------------------+-------------+----------------+----------+--------------------+---------------+---------+--------+---------+---------+\n",
      "|Unit 1047 Box 408...|1994-02-20 00:46:27|United Kingdom|     12346|cooperalexis@hotm...|Lindsay Cowan|valenciajennifer|     12346|MEDIUM CERAMIC TO...|1/18/2011 10:17|  C541433|  -74215|    23166|     1.04|\n",
      "|Unit 1047 Box 408...|1994-02-20 00:46:27|United Kingdom|     12346|cooperalexis@hotm...|Lindsay Cowan|valenciajennifer|     12346|MEDIUM CERAMIC TO...|1/18/2011 10:01|   541431|   74215|    23166|     1.04|\n",
      "+--------------------+-------------------+--------------+----------+--------------------+-------------+----------------+----------+--------------------+---------------+---------+--------+---------+---------+\n",
      "only showing top 2 rows\n",
      "\n"
     ]
    }
   ],
   "source": [
    "data.join(retail, data(\"CustomerId\") === retail(\"customerId\"), \"left\").show(2) \n",
    "// оставит два столбца с CustomerId - может выдать ошибку если к ним обращаться.\n",
    "// Если название столбцов одинаковое то использовать вариант выше"
   ]
  },
  {
   "cell_type": "markdown",
   "id": "d6aa6816",
   "metadata": {},
   "source": [
    "-----------------------------------------"
   ]
  },
  {
   "cell_type": "markdown",
   "id": "0cb85e5a",
   "metadata": {},
   "source": [
    "## RDD"
   ]
  },
  {
   "cell_type": "code",
   "execution_count": 37,
   "id": "43e4104b",
   "metadata": {},
   "outputs": [
    {
     "data": {
      "text/plain": [
       "defined class Student\r\n",
       "defined class Course\r\n",
       "defined object Student\r\n",
       "defined object Course\r\n"
      ]
     },
     "execution_count": 37,
     "metadata": {},
     "output_type": "execute_result"
    }
   ],
   "source": [
    "case class Student(id : Int, name : String, surname : String, courses : Seq[Course])\n",
    "\n",
    "case class Course(title: String)\n",
    "\n",
    "object Student {\n",
    "\n",
    "  def getStudentsSample : Seq[Student] = {\n",
    "    Seq(\n",
    "      Student(1, \"John\", \"Doe\", Seq(Course.sparkCourse, Course.scalaCourse)),\n",
    "      Student(2, \"Ivan\", \"Ivanov\", Seq(Course.javaCourse)),\n",
    "      Student(3, \"Jack\", \"Toe\", Seq(Course.javaCourse, Course.sparkCourse, Course.scalaCourse))\n",
    "    )\n",
    "  }\n",
    "}\n",
    "\n",
    "object Course {\n",
    "\n",
    "  def sparkCourse: Course = Course(\"Spark\")\n",
    "  def scalaCourse: Course = Course(\"Scala\")\n",
    "  def javaCourse: Course = Course(\"Java\")\n",
    "\n",
    "}"
   ]
  },
  {
   "cell_type": "code",
   "execution_count": 38,
   "id": "e50a2c10",
   "metadata": {},
   "outputs": [
    {
     "data": {
      "text/plain": [
       "import java.io.{File, PrintWriter}\r\n",
       "import scala.util.Random\r\n"
      ]
     },
     "execution_count": 38,
     "metadata": {},
     "output_type": "execute_result"
    }
   ],
   "source": [
    "import java.io.{File, PrintWriter}\n",
    "import scala.util.Random"
   ]
  },
  {
   "cell_type": "code",
   "execution_count": 39,
   "id": "c1e71a9c",
   "metadata": {},
   "outputs": [
    {
     "data": {
      "text/plain": [
       "studentsRDD: org.apache.spark.rdd.RDD[Student] = ParallelCollectionRDD[132] at parallelize at <console>:37\r\n"
      ]
     },
     "execution_count": 39,
     "metadata": {},
     "output_type": "execute_result"
    }
   ],
   "source": [
    "val studentsRDD = spark.sparkContext.parallelize(Student.getStudentsSample)"
   ]
  },
  {
   "cell_type": "code",
   "execution_count": 40,
   "id": "c9ebd0a3",
   "metadata": {},
   "outputs": [
    {
     "name": "stdout",
     "output_type": "stream",
     "text": [
      "(Filter John count: ,1)\n",
      "(Filter Java course count: ,2)\n"
     ]
    }
   ],
   "source": [
    "println(\"Filter John count: \", studentsRDD.filter(_.name == \"John\").count)\n",
    "println(\"Filter Java course count: \", studentsRDD.filter(student => student.courses.contains(Course(\"Java\"))).count)"
   ]
  },
  {
   "cell_type": "code",
   "execution_count": 41,
   "id": "64bd634d",
   "metadata": {},
   "outputs": [
    {
     "name": "stdout",
     "output_type": "stream",
     "text": [
      "Student(2,ModifiedName,Ivanov,List(Course(Java)))\n",
      "Student(3,ModifiedName,Toe,List(Course(Java), Course(Spark), Course(Scala)))\n",
      "Student(1,ModifiedName,Doe,List(Course(Spark), Course(Scala)))\n"
     ]
    }
   ],
   "source": [
    "studentsRDD.map(_.copy(name = \"ModifiedName\")).foreach(println)"
   ]
  },
  {
   "cell_type": "code",
   "execution_count": 42,
   "id": "228ecf7f",
   "metadata": {},
   "outputs": [
    {
     "name": "stdout",
     "output_type": "stream",
     "text": [
      "Student(2,Ivan,Ivanov,List(Course(Java)))\n",
      "Student(3,Jack,Toe,List(Course(Java), Course(Spark), Course(Scala)))\n",
      "Student(1,John,Doe,List(Course(Spark), Course(Scala)))\n"
     ]
    }
   ],
   "source": [
    "studentsRDD.sortBy(_.surname).foreach(println)"
   ]
  },
  {
   "cell_type": "code",
   "execution_count": 43,
   "id": "f920dea8",
   "metadata": {},
   "outputs": [],
   "source": [
    "// studentsRDD.foreachPartition(part => {\n",
    "//       val randomFileName = new Random().nextInt()\n",
    "//       val pw = new PrintWriter(new File(s\"random-file-${randomFileName}.txt\"))\n",
    "//       while (part.hasNext) {\n",
    "//         pw.write(part.next().toString)\n",
    "//       }\n",
    "//       pw.close()\n",
    "//     })"
   ]
  }
 ],
 "metadata": {
  "kernelspec": {
   "display_name": "spylon-kernel",
   "language": "scala",
   "name": "spylon-kernel"
  },
  "language_info": {
   "codemirror_mode": "text/x-scala",
   "file_extension": ".scala",
   "help_links": [
    {
     "text": "MetaKernel Magics",
     "url": "https://metakernel.readthedocs.io/en/latest/source/README.html"
    }
   ],
   "mimetype": "text/x-scala",
   "name": "scala",
   "pygments_lexer": "scala",
   "version": "0.4.1"
  }
 },
 "nbformat": 4,
 "nbformat_minor": 5
}
